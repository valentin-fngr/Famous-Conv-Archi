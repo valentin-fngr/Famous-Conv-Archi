{
 "cells": [
  {
   "cell_type": "code",
   "execution_count": 1,
   "metadata": {},
   "outputs": [],
   "source": [
    "import tensorflow as tf\n",
    "from tensorflow import keras\n",
    "from tensorflow.keras import activations\n",
    "from tensorflow.keras import layers\n",
    "import numpy as np \n",
    "import matplotlib.pyplot as plt "
   ]
  },
  {
   "cell_type": "code",
   "execution_count": 2,
   "metadata": {},
   "outputs": [],
   "source": [
    "#Residual blocks \n",
    "#Id function allows us to train a bigger network with the same layers.\n",
    "    #=> We put X, keep X + a residual block learning the changes on X\n",
    "    #=> Weights ---> 0 \n",
    "    "
   ]
  },
  {
   "cell_type": "code",
   "execution_count": null,
   "metadata": {},
   "outputs": [],
   "source": []
  },
  {
   "cell_type": "code",
   "execution_count": 4,
   "metadata": {},
   "outputs": [],
   "source": [
    "def conv(x, taille_noyau, nbr_filtres, stride, b_norm, activation=\"relu\"): \n",
    "    result = tf.keras.layers.Conv2D(\n",
    "        filters=nbr_filtres, \n",
    "        kernel_size=taille_noyau, \n",
    "        strides=stride, \n",
    "        padding=\"same\" #output keeps dimensions\n",
    "    )(x)\n",
    "    if b_norm: \n",
    "        b_normed_result = tf.keras.layers.BatchNormalization()(result)\n",
    "    if action == \"relu\": \n",
    "        result = tf.keras.activations.relu(b_normed_result)\n",
    "    return result\n",
    "        \n",
    "\n",
    "def fc(x, nbr_neur, b_norm, f_activation): \n",
    "    #result = activation(dot(input, kernel) + bias)\n",
    "    result = tf.keras.layers.Dense(\n",
    "        units=nbr_neur\n",
    "    )(x)\n",
    "    if b_norm: \n",
    "        b_normed_result = tf.keras.layers.BatchNormalization()(result)\n",
    "    if activation == \"relu\": \n",
    "        result = tf.keras.activations.relu(b_normed_result)\n",
    "    elif activation == \"sigmoid\": \n",
    "        result = tf.keras.activations.sigmoid(b_normed_result)\n",
    "    return result\n",
    "\n",
    "\n",
    "\n",
    "def residual_block(x, kernel, nbr_cc, reduce=False): \n",
    "    '''\n",
    "        nbr_cc = list of nb_filters in the block\n",
    "        kernel = list of kernel_size ex : [64,256, 300]\n",
    "    '''\n",
    "    if reduce is True: \n",
    "        #Use 1x1 conv + stride 2 \n",
    "        stride = 2 \n",
    "        #Calling our conv layer\n",
    "        #nbr_cc[-1] because we reduce at the end of the block\n",
    "        result = conv(x, 1, nbr_cc[-1], stride, True, \"relu\")\n",
    "    else: \n",
    "        stride = 1 \n",
    "        if nbr_cc[-1] != x.shape[-1]: \n",
    "            #We fix it ! => 1x1xnbr_cc[-1] : keep size but fix deepness\n",
    "            result = conv(x,1,nbr_cc[-1], stride, True, \"relu\")\n",
    "        else: \n",
    "            result=x\n",
    "    result2 = x\n",
    "    for item in range(len(kernel) - 1):\n",
    "        result2 = conv(result2, kernel[item], nbr_cc[item], stride=1, True,activation=\"relu\")\n",
    "    #Last conv opoeration of the block \n",
    "    result2 = conv(result2, kernel[-1], nbr_cc[kernel[-1], stride=1, True, action=None])\n",
    "    block_result = result2 + result \n",
    "    #applying relu \n",
    "    activ_block_result = tf.keras.activations.relu(block_result)\n",
    "    \n",
    "    \n",
    "    return activ_block_result"
   ]
  },
  {
   "cell_type": "code",
   "execution_count": null,
   "metadata": {},
   "outputs": [],
   "source": []
  }
 ],
 "metadata": {
  "kernelspec": {
   "display_name": "Python 3",
   "language": "python",
   "name": "python3"
  },
  "language_info": {
   "codemirror_mode": {
    "name": "ipython",
    "version": 3
   },
   "file_extension": ".py",
   "mimetype": "text/x-python",
   "name": "python",
   "nbconvert_exporter": "python",
   "pygments_lexer": "ipython3",
   "version": "3.7.4"
  }
 },
 "nbformat": 4,
 "nbformat_minor": 2
}
