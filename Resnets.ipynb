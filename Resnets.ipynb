{
 "cells": [
  {
   "cell_type": "code",
   "execution_count": 2,
   "metadata": {},
   "outputs": [],
   "source": [
    "import tensorflow as tf\n",
    "from tensorflow import keras\n",
    "from tensorflow.keras import activations\n",
    "from tensorflow.keras import layers\n",
    "import numpy as np \n",
    "import matplotlib.pyplot as plt "
   ]
  },
  {
   "cell_type": "code",
   "execution_count": 3,
   "metadata": {},
   "outputs": [],
   "source": [
    "#Residual blocks \n",
    "#Id function allows us to train a bigger network with the same layers.\n",
    "    #=> We put X, keep X + a residual block learning the changes on X\n",
    "    #=> Weights ---> 0 \n",
    "    "
   ]
  },
  {
   "cell_type": "code",
   "execution_count": 5,
   "metadata": {},
   "outputs": [
    {
     "name": "stdout",
     "output_type": "stream",
     "text": [
      "(50000, 32, 32, 3)\n",
      "(50000, 1)\n"
     ]
    }
   ],
   "source": [
    "(x_train, y_train), (x_test, y_test) = tf.keras.datasets.cifar10.load_data()\n",
    "print(x_train.shape)\n",
    "print(y_train.shape)\n",
    "\n",
    "LABELS = [\"airplane\", \"automobile\", \"bird\", \"cat\", \"deer\", \"dog\", \"frog\", \"horse\", \"ship\", \"truck\"]\n",
    "HEIGHT = x_train.shape[1]\n",
    "WIDTH = x_train.shape[2]\n",
    "INPUT_SHAPE = (HEIGHT, WIDTH, 3)"
   ]
  },
  {
   "cell_type": "code",
   "execution_count": null,
   "metadata": {},
   "outputs": [],
   "source": [
    "#Let's build the model ! \n",
    "\n",
    "#Resnet Block ! \n",
    "def residual_block(x, kernel, nb_filters, reduce=False): \n",
    "\n",
    "    result = x\n",
    "    if reduce: \n",
    "        #Reduce shape => stride = 2  + 1x1\n",
    "        #First conv if reduce \n",
    "        conv_result = tf.keras.layers.Conv2D(\n",
    "            strides=2, \n",
    "            kernel_size=1,\n",
    "            filters=nb_filters,\n",
    "            padding=\"SAME\", \n",
    "            input_shape=x.shape[1::]\n",
    "        )(result)\n",
    "        #batch norm after each convolution \n",
    "        batch_norm_result = tf.keras.layers.BatchNormalization()(conv_result)\n",
    "        result = tf.keras.layers.ReLU(batch_norm_result)\n",
    "    #Anyways run the first imposed conv\n",
    "    conv_result = tf.keras.layers.Conv2D(\n",
    "        strides=1, \n",
    "        kernel_size=kernel,\n",
    "        filters=nb_filters,\n",
    "        padding=\"SAME\", \n",
    "        input_shape=x.shape[1::]\n",
    "    )(result)\n",
    "    #Batch norm and activation (RELU)\n",
    "    batch_norm_result = tf.keras.layers.BatchNormalization()(conv_result)\n",
    "    result = tf.keras.layers.ReLU(batch_norm_result)\n",
    "    #Second imposed convolution \n",
    "    conv_result2 = tf.keras.layers.Conv2D(\n",
    "        strides=1, \n",
    "        kernel_size=kernel, \n",
    "        filters=nb_filters, \n",
    "        padding=\"SAME\", \n",
    "        input_shape=x.shape[1::]\n",
    "    )(result)\n",
    "    #batch norm after each convolution \n",
    "    batch_norm_result2 = tf.keras.layers.BatchNormalization()(conv_result2)\n",
    "    return batch_norm_result2     "
   ]
  }
 ],
 "metadata": {
  "kernelspec": {
   "display_name": "Python 3",
   "language": "python",
   "name": "python3"
  },
  "language_info": {
   "codemirror_mode": {
    "name": "ipython",
    "version": 3
   },
   "file_extension": ".py",
   "mimetype": "text/x-python",
   "name": "python",
   "nbconvert_exporter": "python",
   "pygments_lexer": "ipython3",
   "version": "3.7.4"
  }
 },
 "nbformat": 4,
 "nbformat_minor": 2
}
