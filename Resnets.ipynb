{
 "cells": [
  {
   "cell_type": "code",
   "execution_count": 2,
   "metadata": {},
   "outputs": [],
   "source": [
    "import tensorflow as tf\n",
    "from tensorflow import keras\n",
    "from tensorflow.keras import activations\n",
    "from tensorflow.keras import layers\n",
    "import numpy as np \n",
    "from tensorflow.keras.models import Model\n",
    "import matplotlib.pyplot as plt "
   ]
  },
  {
   "cell_type": "markdown",
   "metadata": {},
   "source": [
    "# This Jupyter Notebook is the projection of my thought process\n",
    "## I will be describing where all the informations are from \n",
    "### (for example : \"according to the paper, ...\") \n"
   ]
  },
  {
   "cell_type": "markdown",
   "metadata": {},
   "source": [
    "# Let's use the CIFAR Dataset\n"
   ]
  },
  {
   "cell_type": "code",
   "execution_count": 4,
   "metadata": {},
   "outputs": [
    {
     "name": "stdout",
     "output_type": "stream",
     "text": [
      "(50000, 32, 32, 3)\n",
      "(50000, 1)\n"
     ]
    }
   ],
   "source": [
    "(x_train, y_train), (x_test, y_test) = tf.keras.datasets.cifar10.load_data()\n",
    "print(x_train.shape)\n",
    "print(y_train.shape)\n",
    "\n",
    "LABELS = [\"airplane\", \"automobile\", \"bird\", \"cat\", \"deer\", \"dog\", \"frog\", \"horse\", \"ship\", \"truck\"]\n",
    "HEIGHT = x_train.shape[1]\n",
    "WIDTH = x_train.shape[2]\n",
    "INPUT_SHAPE = (HEIGHT, WIDTH, 3)"
   ]
  },
  {
   "cell_type": "markdown",
   "metadata": {},
   "source": [
    "# The actual Paper ! "
   ]
  },
  {
   "cell_type": "markdown",
   "metadata": {},
   "source": [
    "# Let's try to code on residual unit"
   ]
  },
  {
   "cell_type": "markdown",
   "metadata": {},
   "source": [
    "### Based on the paper : f(x) + x is the output of our residual unit + input ( f(x) being the residual unit)"
   ]
  },
  {
   "cell_type": "markdown",
   "metadata": {},
   "source": [
    "###### Let's go for Conv -> Bn -> Relu -> Conv -> Bn -> Addition -> Relu :)"
   ]
  },
  {
   "cell_type": "code",
   "execution_count": 66,
   "metadata": {},
   "outputs": [],
   "source": [
    "def residual_block(inputs, kernel_size, filters, reduce=False): \n",
    "    x = inputs\n",
    "    stride = 1\n",
    "    print(\"Input shapes : \",x.shape)\n",
    "    if reduce: \n",
    "        stride = 2 \n",
    "        #let's reduce dimensiosn \n",
    "        print(\"reducing ...\")\n",
    "        x = tf.keras.layers.Conv2D(\n",
    "            filters=filters[0], \n",
    "            kernel_size=1, \n",
    "            padding=\"SAME\", \n",
    "            strides=2\n",
    "        )(x)\n",
    "    #x = x if not reduce, x = x with stride /2 & 1x1 conv if reduce\n",
    "    #conv operations ! \n",
    "    result = inputs\n",
    "    for step in range(len(kernel_size)-1): \n",
    "        print(\"step : \",step)\n",
    "        if step == 0 and reduce: \n",
    "            print(\"stride of 2\")\n",
    "            stride = 2 \n",
    "        else: \n",
    "            stride = 1\n",
    "            print(\"stride of 1\")\n",
    "        result = tf.keras.layers.Conv2D(\n",
    "            filters=filters[step], \n",
    "            kernel_size=kernel_size[step], \n",
    "            padding=\"SAME\", \n",
    "            strides=stride\n",
    "        )(result)\n",
    "        result = tf.keras.layers.BatchNormalization()(result)\n",
    "    #for the last conv layer : Conv -> bn -> addition\n",
    "    result = tf.keras.layers.Conv2D(\n",
    "            filters=filters[len(kernel_size)-1], \n",
    "            kernel_size=kernel_size[len(kernel_size)-1], \n",
    "            padding=\"SAME\", \n",
    "            strides=1\n",
    "        )(result)\n",
    "    result = tf.keras.layers.BatchNormalization()(result)\n",
    "    #Addition \n",
    "    print(result.shape)\n",
    "    print(x.shape)\n",
    "    result = result + x\n",
    "    reslut = tf.keras.activations.relu(x)\n",
    "    print(result.shape)\n",
    "    print(\"done\")\n",
    "    return result "
   ]
  },
  {
   "cell_type": "markdown",
   "metadata": {},
   "source": [
    "## Let's try our residual_block with the original paper's dimensions ! We expect our output to be 28 * 28 * 128"
   ]
  },
  {
   "cell_type": "code",
   "execution_count": 69,
   "metadata": {},
   "outputs": [
    {
     "name": "stdout",
     "output_type": "stream",
     "text": [
      "block  1\n",
      "Input shapes :  (None, 56, 56, 64)\n",
      "reducing ...\n",
      "step :  0\n",
      "stride of 2\n",
      "(None, 28, 28, 128)\n",
      "(None, 28, 28, 128)\n",
      "(None, 28, 28, 128)\n",
      "done\n",
      "block  2\n",
      "Input shapes :  (None, 28, 28, 128)\n",
      "step :  0\n",
      "stride of 1\n",
      "(None, 28, 28, 128)\n",
      "(None, 28, 28, 128)\n",
      "(None, 28, 28, 128)\n",
      "done\n",
      "block  3\n",
      "Input shapes :  (None, 28, 28, 128)\n",
      "step :  0\n",
      "stride of 1\n",
      "(None, 28, 28, 128)\n",
      "(None, 28, 28, 128)\n",
      "(None, 28, 28, 128)\n",
      "done\n",
      "block  4\n",
      "Input shapes :  (None, 28, 28, 128)\n",
      "step :  0\n",
      "stride of 1\n",
      "(None, 28, 28, 128)\n",
      "(None, 28, 28, 128)\n",
      "(None, 28, 28, 128)\n",
      "done\n",
      "(None, 28, 28, 128)\n"
     ]
    }
   ],
   "source": [
    "test_input_shape = (56,56,64)\n",
    "test_input = tf.keras.Input(shape=test_input_shape)\n",
    "kernel_size = [3,3]\n",
    "filters = [128,128]\n",
    "\n",
    "res = test_input\n",
    "for i in range(4): \n",
    "    print(\"block \", i+1)\n",
    "    if i == 0: \n",
    "        res = residual_block(res, kernel_size, filters, reduce=True)\n",
    "    else: \n",
    "        res = residual_block(res, kernel_size, filters, reduce=False)\n",
    "print(res.shape)\n"
   ]
  },
  {
   "cell_type": "code",
   "execution_count": null,
   "metadata": {},
   "outputs": [],
   "source": []
  },
  {
   "cell_type": "code",
   "execution_count": null,
   "metadata": {},
   "outputs": [],
   "source": []
  },
  {
   "cell_type": "code",
   "execution_count": null,
   "metadata": {},
   "outputs": [],
   "source": []
  }
 ],
 "metadata": {
  "kernelspec": {
   "display_name": "Python 3",
   "language": "python",
   "name": "python3"
  },
  "language_info": {
   "codemirror_mode": {
    "name": "ipython",
    "version": 3
   },
   "file_extension": ".py",
   "mimetype": "text/x-python",
   "name": "python",
   "nbconvert_exporter": "python",
   "pygments_lexer": "ipython3",
   "version": "3.7.4"
  }
 },
 "nbformat": 4,
 "nbformat_minor": 2
}
