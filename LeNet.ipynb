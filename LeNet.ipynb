{
 "cells": [
  {
   "cell_type": "code",
   "execution_count": 1,
   "metadata": {},
   "outputs": [
    {
     "name": "stdout",
     "output_type": "stream",
     "text": [
      "[name: \"/device:CPU:0\"\n",
      "device_type: \"CPU\"\n",
      "memory_limit: 268435456\n",
      "locality {\n",
      "}\n",
      "incarnation: 9326006802749665704\n",
      ", name: \"/device:GPU:0\"\n",
      "device_type: \"GPU\"\n",
      "memory_limit: 4990763008\n",
      "locality {\n",
      "  bus_id: 1\n",
      "  links {\n",
      "  }\n",
      "}\n",
      "incarnation: 16583193304800499357\n",
      "physical_device_desc: \"device: 0, name: GeForce GTX 1660, pci bus id: 0000:02:00.0, compute capability: 7.5\"\n",
      "]\n"
     ]
    },
    {
     "data": {
      "text/plain": [
       "[PhysicalDevice(name='/physical_device:GPU:0', device_type='GPU')]"
      ]
     },
     "execution_count": 1,
     "metadata": {},
     "output_type": "execute_result"
    }
   ],
   "source": [
    "import tensorflow as tf \n",
    "import numpy as np \n",
    "import matplotlib.pyplot as plt \n",
    "from tensorflow.python.client import device_lib\n",
    "\n",
    "print(device_lib.list_local_devices())\n",
    "tf.config.list_physical_devices('GPU')"
   ]
  },
  {
   "cell_type": "code",
   "execution_count": 2,
   "metadata": {},
   "outputs": [
    {
     "name": "stdout",
     "output_type": "stream",
     "text": [
      "HEIGHT 32\n",
      "WIDTH 32\n",
      "0.0\n"
     ]
    }
   ],
   "source": [
    " #Loading cifar\n",
    "(x_train, y_train), (x_test, y_test) = tf.keras.datasets.cifar10.load_data()\n",
    "LABELS = [\"airplane\", \"automobile\", \"bird\", \"cat\", \"deer\", \"dog\", \"frog\", \"horse\", \"ship\", \"truck\"]\n",
    "HEIGHT = x_train.shape[1]\n",
    "WIDTH = x_train.shape[2]\n",
    "y_train = tf.keras.utils.to_categorical(y_train)\n",
    "y_test = tf.keras.utils.to_categorical(y_test)\n",
    "print(\"HEIGHT\", HEIGHT)\n",
    "print(\"WIDTH\", WIDTH)\n",
    "print(y_train[1][0])"
   ]
  },
  {
   "cell_type": "code",
   "execution_count": 3,
   "metadata": {},
   "outputs": [
    {
     "name": "stdout",
     "output_type": "stream",
     "text": [
      "X train shape (50000, 32, 32, 3)\n",
      "Y train shape (50000, 10)\n"
     ]
    },
    {
     "data": {
      "text/plain": [
       "<matplotlib.image.AxesImage at 0x2434e715448>"
      ]
     },
     "execution_count": 3,
     "metadata": {},
     "output_type": "execute_result"
    },
    {
     "data": {
      "image/png": "[encoded data removed]",
      "text/plain": [
       "<Figure size 432x288 with 1 Axes>"
      ]
     },
     "metadata": {
      "needs_background": "light"
     },
     "output_type": "display_data"
    }
   ],
   "source": [
    "#Checking the ds \n",
    "print(\"X train shape\", x_train.shape)\n",
    "print(\"Y train shape\", y_train.shape)\n",
    "plt.imshow(x_train[1])"
   ]
  },
  {
   "cell_type": "code",
   "execution_count": 4,
   "metadata": {},
   "outputs": [
    {
     "data": {
      "text/plain": [
       "(32, 32, 3)"
      ]
     },
     "execution_count": 4,
     "metadata": {},
     "output_type": "execute_result"
    }
   ],
   "source": [
    "x_train.shape[1::]"
   ]
  },
  {
   "cell_type": "code",
   "execution_count": 5,
   "metadata": {},
   "outputs": [],
   "source": [
    "#Let's implement The famous Yann Le Cunn conv nets architectures \n",
    "class leNet5(): \n",
    "    \n",
    "    def __init__(self, x_train, y_train, labels): \n",
    "        self.model = tf.keras.Sequential()\n",
    "        self.input_shape = x_train.shape[1::]\n",
    "        self.labels = labels\n",
    "        self.x_train = x_train \n",
    "        self.y_train = y_train \n",
    "    \n",
    "    def build(self): \n",
    "        self.model.add(tf.keras.layers.Conv2D(strides=1,filters=6, kernel_size=5, input_shape=self.input_shape))\n",
    "        self.model.add(tf.keras.layers.MaxPooling2D())\n",
    "        \n",
    "        self.model.add(tf.keras.layers.Conv2D(strides=1,filters=16, kernel_size=5))\n",
    "        self.model.add(tf.keras.layers.MaxPooling2D())\n",
    "        self.model.add(tf.keras.layers.Flatten())\n",
    "\n",
    "        self.model.add(tf.keras.layers.Dense(units=120, activation=\"relu\"))\n",
    "        self.model.add(tf.keras.layers.Dense(units=84, activation=\"relu\"))\n",
    "        self.model.add(tf.keras.layers.Dense(units=len(self.labels), activation=\"softmax\"))\n",
    "        self.model.compile(optimizer=\"adam\", loss=\"categorical_crossentropy\", metrics=[\"accuracy\"])\n",
    "        \n",
    "    def get_classe(self, idx): \n",
    "        return self.labels[idx]\n",
    "    \n",
    "    def summary(self): \n",
    "        return self.model.summary()\n",
    "    \n",
    "    def fit(self): \n",
    "        return self.model.fit(self.x_train, self.y_train, epochs=100, batch_size=32) \n",
    "    \n",
    "    def predict(self, x): \n",
    "        return self.model.predict(x)\n",
    "        \n",
    "    \n",
    "    #Intializing the model"
   ]
  },
  {
   "cell_type": "code",
   "execution_count": 6,
   "metadata": {},
   "outputs": [
    {
     "name": "stdout",
     "output_type": "stream",
     "text": [
      "Model: \"sequential\"\n",
      "_________________________________________________________________\n",
      "Layer (type)                 Output Shape              Param #   \n",
      "=================================================================\n",
      "conv2d (Conv2D)              (None, 28, 28, 6)         456       \n",
      "_________________________________________________________________\n",
      "max_pooling2d (MaxPooling2D) (None, 14, 14, 6)         0         \n",
      "_________________________________________________________________\n",
      "conv2d_1 (Conv2D)            (None, 10, 10, 16)        2416      \n",
      "_________________________________________________________________\n",
      "max_pooling2d_1 (MaxPooling2 (None, 5, 5, 16)          0         \n",
      "_________________________________________________________________\n",
      "flatten (Flatten)            (None, 400)               0         \n",
      "_________________________________________________________________\n",
      "dense (Dense)                (None, 120)               48120     \n",
      "_________________________________________________________________\n",
      "dense_1 (Dense)              (None, 84)                10164     \n",
      "_________________________________________________________________\n",
      "dense_2 (Dense)              (None, 10)                850       \n",
      "=================================================================\n",
      "Total params: 62,006\n",
      "Trainable params: 62,006\n",
      "Non-trainable params: 0\n",
      "_________________________________________________________________\n"
     ]
    }
   ],
   "source": [
    "model = leNet5(x_train, y_train, LABELS)\n",
    "model.build()\n",
    "model.summary()"
   ]
  },
  {
   "cell_type": "code",
   "execution_count": 7,
   "metadata": {
    "scrolled": false
   },
   "outputs": [
    {
     "name": "stdout",
     "output_type": "stream",
     "text": [
      "Train on 50000 samples\n",
      "Epoch 1/100\n",
      "50000/50000 [==============================] - 8s 169us/sample - loss: 2.4556 - accuracy: 0.3106\n",
      "Epoch 2/100\n",
      "50000/50000 [==============================] - 6s 120us/sample - loss: 1.5972 - accuracy: 0.4279\n",
      "Epoch 3/100\n",
      "50000/50000 [==============================] - 6s 127us/sample - loss: 1.4458 - accuracy: 0.4891\n",
      "Epoch 4/100\n",
      "50000/50000 [==============================] - 6s 117us/sample - loss: 1.3590 - accuracy: 0.5211\n",
      "Epoch 5/100\n",
      "50000/50000 [==============================] - 6s 128us/sample - loss: 1.2882 - accuracy: 0.5472\n",
      "Epoch 6/100\n",
      "50000/50000 [==============================] - 6s 121us/sample - loss: 1.2265 - accuracy: 0.5678\n",
      "Epoch 7/100\n",
      "50000/50000 [==============================] - 6s 117us/sample - loss: 1.1780 - accuracy: 0.5866\n",
      "Epoch 8/100\n",
      "50000/50000 [==============================] - 5s 103us/sample - loss: 1.1390 - accuracy: 0.6017\n",
      "Epoch 9/100\n",
      "50000/50000 [==============================] - 6s 111us/sample - loss: 1.1204 - accuracy: 0.6119\n",
      "Epoch 10/100\n",
      "50000/50000 [==============================] - 6s 121us/sample - loss: 1.0615 - accuracy: 0.6317\n",
      "Epoch 11/100\n",
      "50000/50000 [==============================] - 5s 101us/sample - loss: 1.0397 - accuracy: 0.6362\n",
      "Epoch 12/100\n",
      "50000/50000 [==============================] - 5s 98us/sample - loss: 1.0160 - accuracy: 0.6482\n",
      "Epoch 13/100\n",
      "50000/50000 [==============================] - 5s 99us/sample - loss: 0.9948 - accuracy: 0.6554\n",
      "Epoch 14/100\n",
      "50000/50000 [==============================] - 6s 110us/sample - loss: 0.9728 - accuracy: 0.6654\n",
      "Epoch 15/100\n",
      "50000/50000 [==============================] - 5s 104us/sample - loss: 0.9549 - accuracy: 0.6691\n",
      "Epoch 16/100\n",
      "50000/50000 [==============================] - 6s 111us/sample - loss: 0.9346 - accuracy: 0.6762\n",
      "Epoch 17/100\n",
      "50000/50000 [==============================] - 5s 105us/sample - loss: 0.9189 - accuracy: 0.6825\n",
      "Epoch 18/100\n",
      "50000/50000 [==============================] - 5s 106us/sample - loss: 0.8909 - accuracy: 0.6921\n",
      "Epoch 19/100\n",
      "50000/50000 [==============================] - 6s 110us/sample - loss: 0.8864 - accuracy: 0.6957\n",
      "Epoch 20/100\n",
      "50000/50000 [==============================] - 6s 115us/sample - loss: 0.8755 - accuracy: 0.6979\n",
      "Epoch 21/100\n",
      "50000/50000 [==============================] - 6s 122us/sample - loss: 0.8539 - accuracy: 0.7051\n",
      "Epoch 22/100\n",
      "50000/50000 [==============================] - 5s 109us/sample - loss: 0.8445 - accuracy: 0.7093\n",
      "Epoch 23/100\n",
      "50000/50000 [==============================] - 5s 100us/sample - loss: 0.8198 - accuracy: 0.7157\n",
      "Epoch 24/100\n",
      "50000/50000 [==============================] - 5s 100us/sample - loss: 0.8288 - accuracy: 0.7136\n",
      "Epoch 25/100\n",
      "50000/50000 [==============================] - 5s 103us/sample - loss: 0.8150 - accuracy: 0.7206\n",
      "Epoch 26/100\n",
      "50000/50000 [==============================] - 5s 102us/sample - loss: 0.7896 - accuracy: 0.7250\n",
      "Epoch 27/100\n",
      "50000/50000 [==============================] - 5s 99us/sample - loss: 0.7809 - accuracy: 0.7301\n",
      "Epoch 28/100\n",
      "50000/50000 [==============================] - 5s 100us/sample - loss: 0.7795 - accuracy: 0.7325\n",
      "Epoch 29/100\n",
      "50000/50000 [==============================] - 5s 99us/sample - loss: 0.7566 - accuracy: 0.7394\n",
      "Epoch 30/100\n",
      "50000/50000 [==============================] - 6s 122us/sample - loss: 0.7643 - accuracy: 0.7378\n",
      "Epoch 31/100\n",
      "50000/50000 [==============================] - 6s 123us/sample - loss: 0.7444 - accuracy: 0.7446\n",
      "Epoch 32/100\n",
      "50000/50000 [==============================] - 6s 119us/sample - loss: 0.7399 - accuracy: 0.7468\n",
      "Epoch 33/100\n",
      "50000/50000 [==============================] - 5s 109us/sample - loss: 0.7371 - accuracy: 0.7495 - loss: 0.7337 - ac\n",
      "Epoch 34/100\n",
      "50000/50000 [==============================] - 5s 104us/sample - loss: 0.7251 - accuracy: 0.7525\n",
      "Epoch 35/100\n",
      "50000/50000 [==============================] - 5s 110us/sample - loss: 0.7146 - accuracy: 0.7531\n",
      "Epoch 36/100\n",
      "50000/50000 [==============================] - 5s 108us/sample - loss: 0.7188 - accuracy: 0.7535\n",
      "Epoch 37/100\n",
      "50000/50000 [==============================] - 6s 110us/sample - loss: 0.7053 - accuracy: 0.7595\n",
      "Epoch 38/100\n",
      "50000/50000 [==============================] - 6s 115us/sample - loss: 0.7015 - accuracy: 0.7596\n",
      "Epoch 39/100\n",
      "50000/50000 [==============================] - 6s 114us/sample - loss: 0.6973 - accuracy: 0.7623\n",
      "Epoch 40/100\n",
      "50000/50000 [==============================] - 6s 121us/sample - loss: 0.6872 - accuracy: 0.7641\n",
      "Epoch 41/100\n",
      "50000/50000 [==============================] - 6s 110us/sample - loss: 0.6895 - accuracy: 0.7659\n",
      "Epoch 42/100\n",
      "50000/50000 [==============================] - 6s 110us/sample - loss: 0.6653 - accuracy: 0.7734\n",
      "Epoch 43/100\n",
      "50000/50000 [==============================] - 5s 105us/sample - loss: 0.6751 - accuracy: 0.7704\n",
      "Epoch 44/100\n",
      "50000/50000 [==============================] - 5s 103us/sample - loss: 0.6571 - accuracy: 0.7742\n",
      "Epoch 45/100\n",
      "50000/50000 [==============================] - 5s 108us/sample - loss: 0.6477 - accuracy: 0.7807\n",
      "Epoch 46/100\n",
      "50000/50000 [==============================] - 6s 116us/sample - loss: 0.6670 - accuracy: 0.7712\n",
      "Epoch 47/100\n",
      "50000/50000 [==============================] - 6s 111us/sample - loss: 0.6547 - accuracy: 0.7761\n",
      "Epoch 48/100\n",
      "50000/50000 [==============================] - 6s 122us/sample - loss: 0.7029 - accuracy: 0.7641\n",
      "Epoch 49/100\n",
      "50000/50000 [==============================] - 6s 123us/sample - loss: 0.6392 - accuracy: 0.7829\n",
      "Epoch 50/100\n",
      "50000/50000 [==============================] - 6s 113us/sample - loss: 0.6605 - accuracy: 0.7786\n",
      "Epoch 51/100\n",
      "50000/50000 [==============================] - 6s 117us/sample - loss: 0.6520 - accuracy: 0.7796\n",
      "Epoch 52/100\n",
      "50000/50000 [==============================] - 6s 112us/sample - loss: 0.6308 - accuracy: 0.7870\n",
      "Epoch 53/100\n",
      "50000/50000 [==============================] - 5s 108us/sample - loss: 0.6193 - accuracy: 0.7919\n",
      "Epoch 54/100\n",
      "50000/50000 [==============================] - 6s 111us/sample - loss: 0.6214 - accuracy: 0.7888\n",
      "Epoch 55/100\n",
      "50000/50000 [==============================] - 5s 105us/sample - loss: 0.6101 - accuracy: 0.7935\n",
      "Epoch 56/100\n",
      "50000/50000 [==============================] - 5s 100us/sample - loss: 0.6353 - accuracy: 0.7861\n",
      "Epoch 57/100\n",
      "50000/50000 [==============================] - 5s 105us/sample - loss: 0.6052 - accuracy: 0.7948\n",
      "Epoch 58/100\n",
      "50000/50000 [==============================] - 6s 116us/sample - loss: 0.5976 - accuracy: 0.7972\n",
      "Epoch 59/100\n",
      "50000/50000 [==============================] - 5s 108us/sample - loss: 0.6092 - accuracy: 0.7932\n",
      "Epoch 60/100\n",
      "50000/50000 [==============================] - 6s 111us/sample - loss: 0.6033 - accuracy: 0.7969\n",
      "Epoch 61/100\n",
      "50000/50000 [==============================] - 5s 105us/sample - loss: 0.5847 - accuracy: 0.8018\n",
      "Epoch 62/100\n",
      "50000/50000 [==============================] - 6s 117us/sample - loss: 0.6078 - accuracy: 0.7973\n",
      "Epoch 63/100\n",
      "50000/50000 [==============================] - 6s 127us/sample - loss: 0.5812 - accuracy: 0.8039\n",
      "Epoch 64/100\n",
      "50000/50000 [==============================] - 6s 114us/sample - loss: 0.6074 - accuracy: 0.7956\n",
      "Epoch 65/100\n",
      "50000/50000 [==============================] - 6s 115us/sample - loss: 0.5964 - accuracy: 0.7990\n",
      "Epoch 66/100\n",
      "50000/50000 [==============================] - 6s 113us/sample - loss: 0.7860 - accuracy: 0.7398\n",
      "Epoch 67/100\n",
      "50000/50000 [==============================] - 5s 101us/sample - loss: 0.5794 - accuracy: 0.8045\n",
      "Epoch 68/100\n",
      "50000/50000 [==============================] - 5s 105us/sample - loss: 0.5672 - accuracy: 0.8087\n",
      "Epoch 69/100\n",
      "50000/50000 [==============================] - 5s 107us/sample - loss: 0.6240 - accuracy: 0.7927\n",
      "Epoch 70/100\n",
      "50000/50000 [==============================] - 6s 119us/sample - loss: 0.5947 - accuracy: 0.8023\n",
      "Epoch 71/100\n",
      "50000/50000 [==============================] - 6s 125us/sample - loss: 0.5909 - accuracy: 0.7992\n",
      "Epoch 72/100\n",
      "50000/50000 [==============================] - 5s 105us/sample - loss: 0.5784 - accuracy: 0.8069\n",
      "Epoch 73/100\n",
      "50000/50000 [==============================] - 5s 99us/sample - loss: 0.5825 - accuracy: 0.8016\n",
      "Epoch 74/100\n",
      "50000/50000 [==============================] - 5s 103us/sample - loss: 0.6185 - accuracy: 0.7932\n",
      "Epoch 75/100\n"
     ]
    },
    {
     "name": "stdout",
     "output_type": "stream",
     "text": [
      "50000/50000 [==============================] - 5s 102us/sample - loss: 0.5511 - accuracy: 0.8141\n",
      "Epoch 76/100\n",
      "50000/50000 [==============================] - 5s 100us/sample - loss: 0.5711 - accuracy: 0.8109\n",
      "Epoch 77/100\n",
      "50000/50000 [==============================] - 5s 105us/sample - loss: 0.5635 - accuracy: 0.8108\n",
      "Epoch 78/100\n",
      "50000/50000 [==============================] - 5s 108us/sample - loss: 0.5610 - accuracy: 0.8105\n",
      "Epoch 79/100\n",
      "50000/50000 [==============================] - 5s 107us/sample - loss: 0.5747 - accuracy: 0.8096\n",
      "Epoch 80/100\n",
      "50000/50000 [==============================] - 5s 109us/sample - loss: 0.5609 - accuracy: 0.8114\n",
      "Epoch 81/100\n",
      "50000/50000 [==============================] - 7s 140us/sample - loss: 0.5952 - accuracy: 0.8035\n",
      "Epoch 82/100\n",
      "50000/50000 [==============================] - 6s 125us/sample - loss: 0.5464 - accuracy: 0.8168\n",
      "Epoch 83/100\n",
      "50000/50000 [==============================] - 7s 141us/sample - loss: 0.5635 - accuracy: 0.8119\n",
      "Epoch 84/100\n",
      "50000/50000 [==============================] - 5s 105us/sample - loss: 0.6015 - accuracy: 0.8010\n",
      "Epoch 85/100\n",
      "50000/50000 [==============================] - 6s 126us/sample - loss: 0.5405 - accuracy: 0.8201\n",
      "Epoch 86/100\n",
      "50000/50000 [==============================] - 6s 129us/sample - loss: 0.5268 - accuracy: 0.8225\n",
      "Epoch 87/100\n",
      "50000/50000 [==============================] - 6s 118us/sample - loss: 0.5645 - accuracy: 0.8138\n",
      "Epoch 88/100\n",
      "50000/50000 [==============================] - 6s 115us/sample - loss: 0.5381 - accuracy: 0.8188\n",
      "Epoch 89/100\n",
      "50000/50000 [==============================] - 5s 108us/sample - loss: 0.5559 - accuracy: 0.8146\n",
      "Epoch 90/100\n",
      "50000/50000 [==============================] - 5s 105us/sample - loss: 0.5761 - accuracy: 0.8085\n",
      "Epoch 91/100\n",
      "50000/50000 [==============================] - 5s 105us/sample - loss: 0.5538 - accuracy: 0.8185\n",
      "Epoch 92/100\n",
      "50000/50000 [==============================] - 5s 102us/sample - loss: 0.5369 - accuracy: 0.8201\n",
      "Epoch 93/100\n",
      "50000/50000 [==============================] - 5s 101us/sample - loss: 0.5800 - accuracy: 0.8095\n",
      "Epoch 94/100\n",
      "50000/50000 [==============================] - 6s 115us/sample - loss: 0.5800 - accuracy: 0.8081\n",
      "Epoch 95/100\n",
      "50000/50000 [==============================] - 6s 119us/sample - loss: 0.5195 - accuracy: 0.8261\n",
      "Epoch 96/100\n",
      "50000/50000 [==============================] - 6s 118us/sample - loss: 0.6421 - accuracy: 0.7955\n",
      "Epoch 97/100\n",
      "50000/50000 [==============================] - 6s 129us/sample - loss: 0.5319 - accuracy: 0.8222\n",
      "Epoch 98/100\n",
      "50000/50000 [==============================] - 5s 108us/sample - loss: 0.5119 - accuracy: 0.8287\n",
      "Epoch 99/100\n",
      "50000/50000 [==============================] - 6s 111us/sample - loss: 0.5757 - accuracy: 0.8101\n",
      "Epoch 100/100\n",
      "50000/50000 [==============================] - 6s 112us/sample - loss: 0.6224 - accuracy: 0.7976\n"
     ]
    },
    {
     "data": {
      "text/plain": [
       "<tensorflow.python.keras.callbacks.History at 0x24474f9e448>"
      ]
     },
     "execution_count": 7,
     "metadata": {},
     "output_type": "execute_result"
    }
   ],
   "source": [
    "model.fit()"
   ]
  },
  {
   "cell_type": "code",
   "execution_count": null,
   "metadata": {},
   "outputs": [],
   "source": []
  },
  {
   "cell_type": "code",
   "execution_count": null,
   "metadata": {},
   "outputs": [],
   "source": []
  },
  {
   "cell_type": "code",
   "execution_count": null,
   "metadata": {},
   "outputs": [],
   "source": []
  },
  {
   "cell_type": "code",
   "execution_count": null,
   "metadata": {},
   "outputs": [],
   "source": []
  }
 ],
 "metadata": {
  "kernelspec": {
   "display_name": "Python 3",
   "language": "python",
   "name": "python3"
  },
  "language_info": {
   "codemirror_mode": {
    "name": "ipython",
    "version": 3
   },
   "file_extension": ".py",
   "mimetype": "text/x-python",
   "name": "python",
   "nbconvert_exporter": "python",
   "pygments_lexer": "ipython3",
   "version": "3.7.4"
  }
 },
 "nbformat": 4,
 "nbformat_minor": 2
}
